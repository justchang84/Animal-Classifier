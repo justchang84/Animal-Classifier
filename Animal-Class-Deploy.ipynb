{
 "cells": [
  {
   "cell_type": "markdown",
   "metadata": {
    "gradient": {
     "editing": false
    }
   },
   "source": [
    "## Creating deployment inference model"
   ]
  },
  {
   "cell_type": "markdown",
   "metadata": {
    "gradient": {
     "editing": false
    }
   },
   "source": [
    "### Importing Libraries"
   ]
  },
  {
   "cell_type": "code",
   "execution_count": 1,
   "metadata": {
    "gradient": {
     "editing": false
    }
   },
   "outputs": [
    {
     "name": "stdout",
     "output_type": "stream",
     "text": [
      "Requirement already satisfied: voila in /opt/conda/envs/fastai/lib/python3.8/site-packages (0.2.10)\n",
      "Requirement already satisfied: jupyter-server<2.0.0,>=0.3.0 in /opt/conda/envs/fastai/lib/python3.8/site-packages (from voila) (1.9.0)\n",
      "Requirement already satisfied: nbconvert<7,>=6.0.0 in /opt/conda/envs/fastai/lib/python3.8/site-packages (from voila) (6.1.0)\n",
      "Requirement already satisfied: jupyter-client<7,>=6.1.3 in /opt/conda/envs/fastai/lib/python3.8/site-packages (from voila) (6.1.7)\n",
      "Requirement already satisfied: nbclient<0.6,>=0.4.0 in /opt/conda/envs/fastai/lib/python3.8/site-packages (from voila) (0.5.1)\n",
      "Requirement already satisfied: argon2-cffi in /opt/conda/envs/fastai/lib/python3.8/site-packages (from jupyter-server<2.0.0,>=0.3.0->voila) (20.1.0)\n",
      "Requirement already satisfied: nbformat in /opt/conda/envs/fastai/lib/python3.8/site-packages (from jupyter-server<2.0.0,>=0.3.0->voila) (5.0.8)\n",
      "Requirement already satisfied: requests-unixsocket in /opt/conda/envs/fastai/lib/python3.8/site-packages (from jupyter-server<2.0.0,>=0.3.0->voila) (0.2.0)\n",
      "Requirement already satisfied: traitlets>=4.2.1 in /opt/conda/envs/fastai/lib/python3.8/site-packages (from jupyter-server<2.0.0,>=0.3.0->voila) (5.0.5)\n",
      "Requirement already satisfied: Send2Trash in /opt/conda/envs/fastai/lib/python3.8/site-packages (from jupyter-server<2.0.0,>=0.3.0->voila) (1.5.0)\n",
      "Requirement already satisfied: pyzmq>=17 in /opt/conda/envs/fastai/lib/python3.8/site-packages (from jupyter-server<2.0.0,>=0.3.0->voila) (20.0.0)\n",
      "Requirement already satisfied: tornado>=6.1.0 in /opt/conda/envs/fastai/lib/python3.8/site-packages (from jupyter-server<2.0.0,>=0.3.0->voila) (6.1)\n",
      "Requirement already satisfied: terminado>=0.8.3 in /opt/conda/envs/fastai/lib/python3.8/site-packages (from jupyter-server<2.0.0,>=0.3.0->voila) (0.9.1)\n",
      "Requirement already satisfied: anyio<4,>=3.1.0 in /opt/conda/envs/fastai/lib/python3.8/site-packages (from jupyter-server<2.0.0,>=0.3.0->voila) (3.2.1)\n",
      "Requirement already satisfied: websocket-client in /opt/conda/envs/fastai/lib/python3.8/site-packages (from jupyter-server<2.0.0,>=0.3.0->voila) (1.1.0)\n",
      "Requirement already satisfied: jinja2 in /opt/conda/envs/fastai/lib/python3.8/site-packages (from jupyter-server<2.0.0,>=0.3.0->voila) (2.11.2)\n",
      "Requirement already satisfied: prometheus-client in /opt/conda/envs/fastai/lib/python3.8/site-packages (from jupyter-server<2.0.0,>=0.3.0->voila) (0.9.0)\n",
      "Requirement already satisfied: ipython-genutils in /opt/conda/envs/fastai/lib/python3.8/site-packages (from jupyter-server<2.0.0,>=0.3.0->voila) (0.2.0)\n",
      "Requirement already satisfied: jupyter-core>=4.6.0 in /opt/conda/envs/fastai/lib/python3.8/site-packages (from jupyter-server<2.0.0,>=0.3.0->voila) (4.7.0)\n",
      "Requirement already satisfied: entrypoints>=0.2.2 in /opt/conda/envs/fastai/lib/python3.8/site-packages (from nbconvert<7,>=6.0.0->voila) (0.3)\n",
      "Requirement already satisfied: pandocfilters>=1.4.1 in /opt/conda/envs/fastai/lib/python3.8/site-packages (from nbconvert<7,>=6.0.0->voila) (1.4.2)\n",
      "Requirement already satisfied: defusedxml in /opt/conda/envs/fastai/lib/python3.8/site-packages (from nbconvert<7,>=6.0.0->voila) (0.6.0)\n",
      "Requirement already satisfied: pygments>=2.4.1 in /opt/conda/envs/fastai/lib/python3.8/site-packages (from nbconvert<7,>=6.0.0->voila) (2.7.2)\n",
      "Requirement already satisfied: mistune<2,>=0.8.1 in /opt/conda/envs/fastai/lib/python3.8/site-packages (from nbconvert<7,>=6.0.0->voila) (0.8.4)\n",
      "Requirement already satisfied: bleach in /opt/conda/envs/fastai/lib/python3.8/site-packages (from nbconvert<7,>=6.0.0->voila) (3.2.1)\n",
      "Requirement already satisfied: testpath in /opt/conda/envs/fastai/lib/python3.8/site-packages (from nbconvert<7,>=6.0.0->voila) (0.4.4)\n",
      "Requirement already satisfied: jupyterlab-pygments in /opt/conda/envs/fastai/lib/python3.8/site-packages (from nbconvert<7,>=6.0.0->voila) (0.1.2)\n",
      "Requirement already satisfied: python-dateutil>=2.1 in /opt/conda/envs/fastai/lib/python3.8/site-packages (from jupyter-client<7,>=6.1.3->voila) (2.8.1)\n",
      "Requirement already satisfied: nest-asyncio in /opt/conda/envs/fastai/lib/python3.8/site-packages (from nbclient<0.6,>=0.4.0->voila) (1.4.3)\n",
      "Requirement already satisfied: async-generator in /opt/conda/envs/fastai/lib/python3.8/site-packages (from nbclient<0.6,>=0.4.0->voila) (1.10)\n",
      "Requirement already satisfied: six in /opt/conda/envs/fastai/lib/python3.8/site-packages (from argon2-cffi->jupyter-server<2.0.0,>=0.3.0->voila) (1.15.0)\n",
      "Requirement already satisfied: cffi>=1.0.0 in /opt/conda/envs/fastai/lib/python3.8/site-packages (from argon2-cffi->jupyter-server<2.0.0,>=0.3.0->voila) (1.14.3)\n",
      "Requirement already satisfied: jsonschema!=2.5.0,>=2.4 in /opt/conda/envs/fastai/lib/python3.8/site-packages (from nbformat->jupyter-server<2.0.0,>=0.3.0->voila) (3.2.0)\n",
      "Requirement already satisfied: urllib3>=1.8 in /opt/conda/envs/fastai/lib/python3.8/site-packages (from requests-unixsocket->jupyter-server<2.0.0,>=0.3.0->voila) (1.25.11)\n",
      "Requirement already satisfied: requests>=1.1 in /opt/conda/envs/fastai/lib/python3.8/site-packages (from requests-unixsocket->jupyter-server<2.0.0,>=0.3.0->voila) (2.25.0)\n",
      "Requirement already satisfied: ptyprocess; os_name != \"nt\" in /opt/conda/envs/fastai/lib/python3.8/site-packages (from terminado>=0.8.3->jupyter-server<2.0.0,>=0.3.0->voila) (0.6.0)\n",
      "Requirement already satisfied: sniffio>=1.1 in /opt/conda/envs/fastai/lib/python3.8/site-packages (from anyio<4,>=3.1.0->jupyter-server<2.0.0,>=0.3.0->voila) (1.2.0)\n",
      "Requirement already satisfied: idna>=2.8 in /opt/conda/envs/fastai/lib/python3.8/site-packages (from anyio<4,>=3.1.0->jupyter-server<2.0.0,>=0.3.0->voila) (2.10)\n",
      "Requirement already satisfied: MarkupSafe>=0.23 in /opt/conda/envs/fastai/lib/python3.8/site-packages (from jinja2->jupyter-server<2.0.0,>=0.3.0->voila) (1.1.1)\n",
      "Requirement already satisfied: webencodings in /opt/conda/envs/fastai/lib/python3.8/site-packages (from bleach->nbconvert<7,>=6.0.0->voila) (0.5.1)\n",
      "Requirement already satisfied: packaging in /opt/conda/envs/fastai/lib/python3.8/site-packages (from bleach->nbconvert<7,>=6.0.0->voila) (20.4)\n",
      "Requirement already satisfied: pycparser in /opt/conda/envs/fastai/lib/python3.8/site-packages (from cffi>=1.0.0->argon2-cffi->jupyter-server<2.0.0,>=0.3.0->voila) (2.20)\n",
      "Requirement already satisfied: pyrsistent>=0.14.0 in /opt/conda/envs/fastai/lib/python3.8/site-packages (from jsonschema!=2.5.0,>=2.4->nbformat->jupyter-server<2.0.0,>=0.3.0->voila) (0.17.3)\n",
      "Requirement already satisfied: setuptools in /opt/conda/envs/fastai/lib/python3.8/site-packages (from jsonschema!=2.5.0,>=2.4->nbformat->jupyter-server<2.0.0,>=0.3.0->voila) (49.6.0.post20201009)\n",
      "Requirement already satisfied: attrs>=17.4.0 in /opt/conda/envs/fastai/lib/python3.8/site-packages (from jsonschema!=2.5.0,>=2.4->nbformat->jupyter-server<2.0.0,>=0.3.0->voila) (20.3.0)\n",
      "Requirement already satisfied: certifi>=2017.4.17 in /opt/conda/envs/fastai/lib/python3.8/site-packages (from requests>=1.1->requests-unixsocket->jupyter-server<2.0.0,>=0.3.0->voila) (2020.11.8)\n",
      "Requirement already satisfied: chardet<4,>=3.0.2 in /opt/conda/envs/fastai/lib/python3.8/site-packages (from requests>=1.1->requests-unixsocket->jupyter-server<2.0.0,>=0.3.0->voila) (3.0.4)\n",
      "Requirement already satisfied: pyparsing>=2.0.2 in /opt/conda/envs/fastai/lib/python3.8/site-packages (from packaging->bleach->nbconvert<7,>=6.0.0->voila) (2.4.7)\n",
      "Enabling: voila\n",
      "- Writing config: /opt/conda/envs/fastai/etc/jupyter\n",
      "    - Validating...\n",
      "      voila 0.2.10 \u001b[32mOK\u001b[0m\n"
     ]
    }
   ],
   "source": [
    "#!pip install voila\n",
    "#!jupyter serverextension enable --sys-prefix voila "
   ]
  },
  {
   "cell_type": "code",
   "execution_count": 2,
   "metadata": {
    "gradient": {
     "editing": false
    }
   },
   "outputs": [],
   "source": [
    "from fastai.vision.all import *\n",
    "from fastai.vision.widgets import *"
   ]
  },
  {
   "cell_type": "code",
   "execution_count": null,
   "metadata": {
    "gradient": {
     "editing": false
    }
   },
   "outputs": [],
   "source": [
    "#from fastbook import *\n",
    "#from fastai.vision.widgets import *"
   ]
  },
  {
   "cell_type": "markdown",
   "metadata": {
    "gradient": {
     "editing": false
    }
   },
   "source": [
    "Test Load the learner"
   ]
  },
  {
   "cell_type": "code",
   "execution_count": null,
   "metadata": {
    "gradient": {
     "editing": false
    }
   },
   "outputs": [],
   "source": [
    "#path = Path()\n",
    "#learn_inf = load_learner(path/'export.pkl', cpu=True)"
   ]
  },
  {
   "cell_type": "markdown",
   "metadata": {
    "gradient": {
     "editing": false
    }
   },
   "source": [
    "Test Checking vocab"
   ]
  },
  {
   "cell_type": "code",
   "execution_count": null,
   "metadata": {
    "gradient": {
     "editing": false
    }
   },
   "outputs": [],
   "source": [
    "#learn_inf.dls.vocab"
   ]
  },
  {
   "cell_type": "markdown",
   "metadata": {
    "gradient": {
     "editing": false
    }
   },
   "source": [
    "Test File upload widget"
   ]
  },
  {
   "cell_type": "code",
   "execution_count": null,
   "metadata": {
    "gradient": {
     "editing": false
    }
   },
   "outputs": [],
   "source": [
    "#btn_upload = widgets.FileUpload()\n",
    "#btn_upload"
   ]
  },
  {
   "cell_type": "code",
   "execution_count": null,
   "metadata": {
    "gradient": {
     "editing": false
    }
   },
   "outputs": [],
   "source": [
    "#img = PILImage.create(btn_upload.data[-1])"
   ]
  },
  {
   "cell_type": "markdown",
   "metadata": {
    "gradient": {
     "editing": false
    }
   },
   "source": [
    "Test Output widget to display image"
   ]
  },
  {
   "cell_type": "code",
   "execution_count": null,
   "metadata": {
    "gradient": {
     "editing": false
    }
   },
   "outputs": [],
   "source": [
    "#out_pl = widgets.Output()\n",
    "#out_pl.clear_output()\n",
    "#with out_pl: display(img.to_thumb(128,128))\n",
    "#out_pl"
   ]
  },
  {
   "cell_type": "markdown",
   "metadata": {},
   "source": [
    "Test Prediction code and label to display"
   ]
  },
  {
   "cell_type": "code",
   "execution_count": null,
   "metadata": {
    "gradient": {}
   },
   "outputs": [],
   "source": [
    "#pred,pred_idx,probs = learn_inf.predict(img)\n",
    "#lbl_pred = widgets.Label()\n",
    "#lbl_pred.value = f'Prediction: {pred}; Probability: {probs[pred_idx]:.04f}'\n",
    "#lbl_pred"
   ]
  },
  {
   "cell_type": "markdown",
   "metadata": {},
   "source": [
    "Classification button to run"
   ]
  },
  {
   "cell_type": "code",
   "execution_count": null,
   "metadata": {
    "gradient": {}
   },
   "outputs": [],
   "source": [
    "#btn_run = widgets.Button(description='Classify')\n",
    "#btn_run"
   ]
  },
  {
   "cell_type": "markdown",
   "metadata": {},
   "source": [
    "Click event handler"
   ]
  },
  {
   "cell_type": "code",
   "execution_count": null,
   "metadata": {
    "gradient": {}
   },
   "outputs": [],
   "source": [
    "#def on_click_classify(change):\n",
    "#    img = PILImage.create(btn_upload.data[-1])\n",
    "#    out_pl.clear_output()\n",
    "#    with out_pl: display(img.to_thumb(128,128))\n",
    "#    pred,pred_idx,probs = learn_inf.predict(img)\n",
    "#    lbl_pred.value = f'Prediction: {pred}; Probability: {probs[pred_idx]:.04f}'\n",
    "\n",
    "#btn_run.on_click(on_click_classify)"
   ]
  },
  {
   "cell_type": "code",
   "execution_count": null,
   "metadata": {
    "gradient": {}
   },
   "outputs": [],
   "source": [
    "#Putting back btn_upload to a widget for next cell\n",
    "#btn_upload = widgets.FileUpload()"
   ]
  },
  {
   "cell_type": "code",
   "execution_count": null,
   "metadata": {
    "gradient": {}
   },
   "outputs": [],
   "source": [
    "#VBox([widgets.Label('Select your animal!'), \n",
    "#      btn_upload, btn_run, out_pl, lbl_pred])"
   ]
  },
  {
   "cell_type": "markdown",
   "metadata": {},
   "source": [
    "## Condensed loading/button code for deployment"
   ]
  },
  {
   "cell_type": "code",
   "execution_count": 3,
   "metadata": {
    "gradient": {}
   },
   "outputs": [],
   "source": [
    "path = Path()\n",
    "learn_inf = load_learner(path/'export.pkl', cpu=True)\n",
    "btn_upload = widgets.FileUpload()\n",
    "out_pl = widgets.Output()\n",
    "lbl_pred = widgets.Label()"
   ]
  },
  {
   "cell_type": "markdown",
   "metadata": {},
   "source": [
    "Label Change Event Handler"
   ]
  },
  {
   "cell_type": "code",
   "execution_count": 4,
   "metadata": {
    "gradient": {}
   },
   "outputs": [],
   "source": [
    "def on_data_change(change):\n",
    "    lbl_pred.value = ''\n",
    "    img = PILImage.create(btn_upload.data[-1])\n",
    "    out_pl.clear_output()\n",
    "    with out_pl: display(img.to_thumb(128,128))\n",
    "    pred,pred_idx,probs = learn_inf.predict(img)\n",
    "    lbl_pred.value = f'Prediction: {pred}; Probability: {probs[pred_idx]:.04f}'"
   ]
  },
  {
   "cell_type": "code",
   "execution_count": 5,
   "metadata": {
    "gradient": {}
   },
   "outputs": [],
   "source": [
    "btn_upload.observe(on_data_change, names=['data'])"
   ]
  },
  {
   "cell_type": "code",
   "execution_count": 6,
   "metadata": {
    "gradient": {}
   },
   "outputs": [
    {
     "data": {
      "application/vnd.jupyter.widget-view+json": {
       "model_id": "b47ef3dfa06b4ffc8e48e0dcf3d6d73b",
       "version_major": 2,
       "version_minor": 0
      },
      "text/plain": [
       "VBox(children=(Label(value='Select your animal!'), FileUpload(value={}, description='Upload'), Output(), Label…"
      ]
     },
     "metadata": {},
     "output_type": "display_data"
    }
   ],
   "source": [
    "display(VBox([widgets.Label('Select your animal!'), btn_upload, out_pl, lbl_pred]))"
   ]
  },
  {
   "cell_type": "code",
   "execution_count": null,
   "metadata": {
    "gradient": {}
   },
   "outputs": [],
   "source": []
  }
 ],
 "metadata": {
  "kernelspec": {
   "display_name": "Python 3",
   "language": "python",
   "name": "python3"
  },
  "language_info": {
   "codemirror_mode": {
    "name": "ipython",
    "version": 3
   },
   "file_extension": ".py",
   "mimetype": "text/x-python",
   "name": "python",
   "nbconvert_exporter": "python",
   "pygments_lexer": "ipython3",
   "version": "3.8.6"
  }
 },
 "nbformat": 4,
 "nbformat_minor": 4
}
